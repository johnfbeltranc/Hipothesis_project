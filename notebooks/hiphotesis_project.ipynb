{
 "cells": [
  {
   "cell_type": "markdown",
   "id": "c12da7a5",
   "metadata": {},
   "source": [
    "john fredy beltran cuellar\n",
    "\n",
    "date 08/23/2025"
   ]
  },
  {
   "cell_type": "markdown",
   "id": "dc787c56",
   "metadata": {},
   "source": [
    "\n",
    "## Hypothesis testing problems  \n",
    "Exercise 1\n",
    "\n",
    "You are a nutritionist researching two different types of diets to see if there is a significant difference in weight loss after one month. You choose two random groups of people; one group follows the first diet, and the other follows the second. At the end of the month, you record the weight loss (in kg) for each person:\n",
    "\n",
    "|Diet 1 |Diet 2 |\n",
    "|-------|-------|\n",
    "|2.0    |\t3.0 |\n",
    "|2.5    |\t3.2 |\n",
    "|3.0    |\t3.1 |\n",
    "|2.8    |\t2.9 |\n",
    "|2.3    |\t2.8 |\n",
    "|2.7    |   3.0 |\n",
    "|2.5    |\t3.2 |  \n",
    "\n",
    "With these data, it seeks to answer the following question: Is there a significant difference in average weight loss between people who followed the first diet and those who followed the second diet?\n",
    "\n",
    "To draw conclusions, follow the points below:\n",
    "\n",
    "    State the hypothesis: null and alternative hypothesis.\n",
    "    Perform the test to test the hypothesis. You can use a Student's t-test.\n",
    "    Analyze the conclusions.\n"
   ]
  },
  {
   "cell_type": "markdown",
   "id": "95c29a45",
   "metadata": {},
   "source": [
    "### ANOVA\n",
    "\n",
    "ANOVA (Analysis of Variance) is a statistical technique used to compare the measures of two or more groups. The idea behind ANOVA is to decompose the total variability in the data into two components: between-group variability and within-group variability:\n",
    "\n",
    "    Between-group variability: This variability refers to the differences between the group means. If this variability is considerably larger than the within-group variability, it could be an indication that at least one of the group means is different.\n",
    "    Within-group variability: This variability refers to the dispersion of the data within each group. If all groups have similar variability, then any noticeable difference in group means could be considered significant.\n",
    "\n",
    "Hypotheses in ANOVA typically include:\n",
    "- Null hypothesis ($H_{0}$) he means of all groups are equal.\n",
    "- Alternative hypothesis ($H_{1}$) at least one group mean is different.\n",
    "If the ANOVA test result is significant (e.g., a p-value less than a threshold such as 0.05), this suggests that at least one group mean is different.\n"
   ]
  },
  {
   "cell_type": "code",
   "execution_count": 16,
   "id": "b0028b8c",
   "metadata": {},
   "outputs": [],
   "source": [
    "import numpy as np\n",
    "import matplotlib.pyplot as plt\n",
    "from statsmodels.stats.multicomp import MultiComparison\n",
    "import scipy.stats as stats"
   ]
  },
  {
   "cell_type": "code",
   "execution_count": 17,
   "id": "7ead3e1a",
   "metadata": {},
   "outputs": [
    {
     "name": "stdout",
     "output_type": "stream",
     "text": [
      "=== t-test (Student) ===\n",
      "t = -3.5383\n",
      "p-valor = 0.0041\n"
     ]
    }
   ],
   "source": [
    "# Datos de las dos dietas\n",
    "diet1 = np.array([2.0, 2.5, 3.0, 2.8, 2.3, 2.7, 2.5], dtype=float)\n",
    "diet2 = np.array([3.0, 3.2, 3.1, 2.9, 2.8, 3.0, 3.2], dtype=float)\n",
    "\n",
    "# === Prueba t de Student (asumiendo varianzas iguales) ===\n",
    "t_stat, p_value = stats.ttest_ind(diet1, diet2, equal_var=True)\n",
    "print(\"=== t-test (Student) ===\")\n",
    "print(f\"t = {t_stat:.4f}\")\n",
    "print(f\"p-valor = {p_value:.4f}\")\n"
   ]
  },
  {
   "cell_type": "markdown",
   "id": "7c14da07",
   "metadata": {},
   "source": [
    "## Conclusión ejercicio 1:\n",
    "\n",
    "Existe evidencia estadísticamente significativa de que las medias de peso entre las dos dietas no son iguales   \n",
    "(\n",
    "𝑝\n",
    "<\n",
    "0.05\n",
    "p<0.05).\n",
    "\n",
    "esto quiere decir que:\n",
    "\n",
    "Los participantes de la dieta 2 presentan un peso promedio significativamente mayor que los de la dieta 1, lo que sugiere que la dieta 2 podría ser menos efectiva para reducir peso."
   ]
  },
  {
   "cell_type": "markdown",
   "id": "f768599f",
   "metadata": {},
   "source": [
    "## Exercise 2  \n",
    "A farmer decides to test three different types of fertilizers to determine if one is superior in terms of corn production. The farmer plants corn on 15 identical plots and uses all three fertilizers (5 plots for each type). At the end of the season, he measures the corn yield (in kg) of each plot, with the following result:\n",
    "\n",
    "|Fertilizer 1|\tFertilizer 2|\tFertilizer 3|\n",
    "|-|-|-|\n",
    "|20|22|24|\n",
    "|21|21|23|\n",
    "|20|23|22|\n",
    "|19|22|23|\n",
    "|20|21|24|\n",
    "\n",
    "With this data, he seeks to answer the following question: Is there a significant difference in average corn yield between the three types of fertilizers?\n",
    "\n",
    "To help you, follow the points below:\n",
    "\n",
    "State the hypothesis: null and alternative hypothesis.\n",
    "Perform the ANOVA test.\n",
    "Analyze the conclusions.\n",
    "If one fertilizer is better than another, how can we know it?"
   ]
  },
  {
   "cell_type": "code",
   "execution_count": 18,
   "id": "a71ccaf3",
   "metadata": {},
   "outputs": [
    {
     "name": "stdout",
     "output_type": "stream",
     "text": [
      "f-value: 20.31578947368421\n",
      "p-value: 0.000140478247931904\n"
     ]
    }
   ],
   "source": [
    "fertilizer_1 = [20, 21, 20, 19, 20]\n",
    "fertilizer_2 = [22, 21, 23, 22, 21]\n",
    "fertilizer_3 = [24, 23, 22, 23, 24]\n",
    "\n",
    "# ANOVA test\n",
    "f_value, p_value = stats.f_oneway(fertilizer_1, fertilizer_2, fertilizer_3)\n",
    "\n",
    "print(f\"f-value: {f_value}\")\n",
    "print(f\"p-value: {p_value}\")"
   ]
  },
  {
   "cell_type": "markdown",
   "id": "761b6f8c",
   "metadata": {},
   "source": [
    "## conclucion primera parte ejercicio 2\n",
    "\n",
    "Los tres fertilizantes no producen el mismo rendimiento promedio.\n",
    "Hay diferencias significativas entre al menos dos de ellos."
   ]
  },
  {
   "cell_type": "markdown",
   "id": "e6502f3d",
   "metadata": {},
   "source": [
    "## usaremos turkey HSD:\n",
    "\n",
    "para identificar que pares de grupos de fertilizantes son significativamente diferentes."
   ]
  },
  {
   "cell_type": "code",
   "execution_count": 19,
   "id": "79671c8c",
   "metadata": {},
   "outputs": [
    {
     "name": "stdout",
     "output_type": "stream",
     "text": [
      "Multiple Comparison of Means - Tukey HSD, FWER=0.05\n",
      "==================================================\n",
      "group1 group2 meandiff p-adj  lower  upper  reject\n",
      "--------------------------------------------------\n",
      "    F1     F2      1.8 0.0099 0.4572 3.1428   True\n",
      "    F1     F3      3.2 0.0001 1.8572 4.5428   True\n",
      "    F2     F3      1.4 0.0409 0.0572 2.7428   True\n",
      "--------------------------------------------------\n"
     ]
    },
    {
     "data": {
      "image/png": "[encoded data removed]",
      "text/plain": [
       "<Figure size 1000x600 with 1 Axes>"
      ]
     },
     "metadata": {},
     "output_type": "display_data"
    }
   ],
   "source": [
    "# Datos\n",
    "fertilizer_1 = [20, 21, 20, 19, 20]\n",
    "fertilizer_2 = [22, 21, 23, 22, 21]\n",
    "fertilizer_3 = [24, 23, 22, 23, 24]\n",
    "\n",
    "# Unimos los datos y creamos etiquetas\n",
    "data = fertilizer_1 + fertilizer_2 + fertilizer_3\n",
    "groups = ([\"F1\"] * len(fertilizer_1) +\n",
    "          [\"F2\"] * len(fertilizer_2) +\n",
    "          [\"F3\"] * len(fertilizer_3))\n",
    "\n",
    "# Tukey HSD\n",
    "mc = MultiComparison(data, groups)\n",
    "tukey_result = mc.tukeyhsd(alpha=0.05)\n",
    "\n",
    "# Imprimir resultados\n",
    "print(tukey_result)\n",
    "\n",
    "# Gráfico estético\n",
    "fig, ax = plt.subplots(figsize=(8, 5))\n",
    "tukey_result.plot_simultaneous(ax=ax)\n",
    "\n",
    "# Personalización\n",
    "ax.set_title(\"Comparación de fertilizantes - Tukey HSD\", fontsize=14, fontweight='bold')\n",
    "ax.set_xlabel(\"Diferencia de medias\", fontsize=12)\n",
    "ax.set_ylabel(\"Comparaciones\", fontsize=12)\n",
    "ax.grid(axis='x', linestyle='--', alpha=0.7)\n",
    "plt.tight_layout()\n",
    "plt.show()"
   ]
  },
  {
   "cell_type": "markdown",
   "id": "3adf0a83",
   "metadata": {},
   "source": [
    "## conclucion segunda parte:\n",
    "\n",
    "El fertilizante F3 produjo el mayor rendimiento promedio, seguido de F2, y luego F1. Todos los fertilizantes son significativamente diferentes entre sí."
   ]
  }
 ],
 "metadata": {
  "kernelspec": {
   "display_name": ".venv (3.12.1)",
   "language": "python",
   "name": "python3"
  },
  "language_info": {
   "codemirror_mode": {
    "name": "ipython",
    "version": 3
   },
   "file_extension": ".py",
   "mimetype": "text/x-python",
   "name": "python",
   "nbconvert_exporter": "python",
   "pygments_lexer": "ipython3",
   "version": "3.12.1"
  }
 },
 "nbformat": 4,
 "nbformat_minor": 5
}
