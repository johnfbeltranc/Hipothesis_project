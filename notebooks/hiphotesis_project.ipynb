{
 "cells": [
  {
   "cell_type": "markdown",
   "id": "c12da7a5",
   "metadata": {},
   "source": [
    "john fredy beltran cuellar\n",
    "date 08/23/2025"
   ]
  },
  {
   "cell_type": "markdown",
   "id": "dc787c56",
   "metadata": {},
   "source": [
    "\n",
    "## Hypothesis testing problems  \n",
    "Exercise 1\n",
    "\n",
    "You are a nutritionist researching two different types of diets to see if there is a significant difference in weight loss after one month. You choose two random groups of people; one group follows the first diet, and the other follows the second. At the end of the month, you record the weight loss (in kg) for each person:\n",
    "\n",
    "|Diet 1 |Diet 2 |\n",
    "|-------|-------|\n",
    "|2.0    |\t3.0 |\n",
    "|2.5    |\t3.2 |\n",
    "|3.0    |\t3.1 |\n",
    "|2.8    |\t2.9 |\n",
    "|2.3    |\t2.8 |\n",
    "|2.7    |   3.0 |\n",
    "|2.5    |\t3.2 |  \n",
    "\n",
    "With these data, it seeks to answer the following question: Is there a significant difference in average weight loss between people who followed the first diet and those who followed the second diet?\n",
    "\n",
    "To draw conclusions, follow the points below:\n",
    "\n",
    "    State the hypothesis: null and alternative hypothesis.\n",
    "    Perform the test to test the hypothesis. You can use a Student's t-test.\n",
    "    Analyze the conclusions.\n"
   ]
  },
  {
   "cell_type": "markdown",
   "id": "95c29a45",
   "metadata": {},
   "source": [
    "### ANOVA\n",
    "\n",
    "ANOVA (Analysis of Variance) is a statistical technique used to compare the measures of two or more groups. The idea behind ANOVA is to decompose the total variability in the data into two components: between-group variability and within-group variability:\n",
    "\n",
    "    Between-group variability: This variability refers to the differences between the group means. If this variability is considerably larger than the within-group variability, it could be an indication that at least one of the group means is different.\n",
    "    Within-group variability: This variability refers to the dispersion of the data within each group. If all groups have similar variability, then any noticeable difference in group means could be considered significant.\n",
    "\n",
    "Hypotheses in ANOVA typically include:\n",
    "- Null hypothesis ($H_{0}$) he means of all groups are equal.\n",
    "- Alternative hypothesis ($H_{1}$) at least one group mean is different.\n",
    "If the ANOVA test result is significant (e.g., a p-value less than a threshold such as 0.05), this suggests that at least one group mean is different.\n"
   ]
  },
  {
   "cell_type": "code",
   "execution_count": 1,
   "id": "e10c0347",
   "metadata": {},
   "outputs": [
    {
     "name": "stdout",
     "output_type": "stream",
     "text": [
      "=== ANOVA de un factor ===\n",
      "F = 12.5199\n",
      "p-valor = 0.0041\n"
     ]
    }
   ],
   "source": [
    "import numpy as np\n",
    "from scipy import stats\n",
    "\n",
    "# Datos\n",
    "diet1 = np.array([2.0, 2.5, 3.0, 2.8, 2.3, 2.7, 2.5], dtype=float)\n",
    "diet2 = np.array([3.0, 3.2, 3.1, 2.9, 2.8, 3.0, 3.2], dtype=float)\n",
    "\n",
    "# ANOVA de un factor\n",
    "f_stat, p_value = stats.f_oneway(diet1, diet2)\n",
    "\n",
    "print(\"=== ANOVA de un factor ===\")\n",
    "print(f\"F = {f_stat:.4f}\")\n",
    "print(f\"p-valor = {p_value:.4f}\")"
   ]
  }
 ],
 "metadata": {
  "kernelspec": {
   "display_name": ".venv (3.12.1)",
   "language": "python",
   "name": "python3"
  },
  "language_info": {
   "codemirror_mode": {
    "name": "ipython",
    "version": 3
   },
   "file_extension": ".py",
   "mimetype": "text/x-python",
   "name": "python",
   "nbconvert_exporter": "python",
   "pygments_lexer": "ipython3",
   "version": "3.12.1"
  }
 },
 "nbformat": 4,
 "nbformat_minor": 5
}
